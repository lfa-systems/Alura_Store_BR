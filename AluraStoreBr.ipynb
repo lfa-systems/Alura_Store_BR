{
  "nbformat": 4,
  "nbformat_minor": 0,
  "metadata": {
    "colab": {
      "provenance": [],
      "include_colab_link": true
    },
    "kernelspec": {
      "name": "python3",
      "display_name": "Python 3"
    },
    "language_info": {
      "name": "python"
    }
  },
  "cells": [
    {
      "cell_type": "markdown",
      "metadata": {
        "id": "view-in-github",
        "colab_type": "text"
      },
      "source": [
        "<a href=\"https://colab.research.google.com/github/lfa-systems/Alura_Store_BR/blob/main/AluraStoreBr.ipynb\" target=\"_parent\"><img src=\"https://colab.research.google.com/assets/colab-badge.svg\" alt=\"Open In Colab\"/></a>"
      ]
    },
    {
      "cell_type": "markdown",
      "source": [
        "### Importação dos dados\n",
        "\n"
      ],
      "metadata": {
        "id": "RhEdWd9YUR6H"
      }
    },
    {
      "cell_type": "code",
      "execution_count": 153,
      "metadata": {
        "colab": {
          "base_uri": "https://localhost:8080/",
          "height": 275
        },
        "id": "T3EvaeQ_INIL",
        "outputId": "08e3679e-5767-4d07-9598-02e07ef9ae96"
      },
      "outputs": [
        {
          "output_type": "execute_result",
          "data": {
            "text/plain": [
              "                 Produto Categoria do Produto    Preço   Frete Data da Compra  \\\n",
              "0     Assistente virtual          eletronicos   219.08   9.250     16/01/2021   \n",
              "1         Mesa de jantar               moveis   256.35  11.234     18/05/2022   \n",
              "2      Jogo de tabuleiro           brinquedos   279.51  21.263     15/03/2021   \n",
              "3            Micro-ondas     eletrodomesticos  1009.99  54.667     03/05/2022   \n",
              "4  Cadeira de escritório               moveis   446.99  26.965     07/11/2020   \n",
              "\n",
              "         Vendedor Local da compra  Avaliação da compra Tipo de pagamento  \\\n",
              "0     Pedro Gomes              SP                    4    cartao_credito   \n",
              "1  Beatriz Moraes              RJ                    1    cartao_credito   \n",
              "2      João Souza              DF                    1    cartao_credito   \n",
              "3      João Souza              RS                    4            boleto   \n",
              "4   Larissa Alves              MG                    5            boleto   \n",
              "\n",
              "   Quantidade de parcelas    lat    lon  \n",
              "0                       8 -22.19 -48.79  \n",
              "1                       4 -22.25 -42.66  \n",
              "2                       1 -15.83 -47.86  \n",
              "3                       1 -30.17 -53.50  \n",
              "4                       1 -18.10 -44.38  "
            ],
            "text/html": [
              "\n",
              "  <div id=\"df-254ab655-3d9d-4867-b615-aca1f875355b\" class=\"colab-df-container\">\n",
              "    <div>\n",
              "<style scoped>\n",
              "    .dataframe tbody tr th:only-of-type {\n",
              "        vertical-align: middle;\n",
              "    }\n",
              "\n",
              "    .dataframe tbody tr th {\n",
              "        vertical-align: top;\n",
              "    }\n",
              "\n",
              "    .dataframe thead th {\n",
              "        text-align: right;\n",
              "    }\n",
              "</style>\n",
              "<table border=\"1\" class=\"dataframe\">\n",
              "  <thead>\n",
              "    <tr style=\"text-align: right;\">\n",
              "      <th></th>\n",
              "      <th>Produto</th>\n",
              "      <th>Categoria do Produto</th>\n",
              "      <th>Preço</th>\n",
              "      <th>Frete</th>\n",
              "      <th>Data da Compra</th>\n",
              "      <th>Vendedor</th>\n",
              "      <th>Local da compra</th>\n",
              "      <th>Avaliação da compra</th>\n",
              "      <th>Tipo de pagamento</th>\n",
              "      <th>Quantidade de parcelas</th>\n",
              "      <th>lat</th>\n",
              "      <th>lon</th>\n",
              "    </tr>\n",
              "  </thead>\n",
              "  <tbody>\n",
              "    <tr>\n",
              "      <th>0</th>\n",
              "      <td>Assistente virtual</td>\n",
              "      <td>eletronicos</td>\n",
              "      <td>219.08</td>\n",
              "      <td>9.250</td>\n",
              "      <td>16/01/2021</td>\n",
              "      <td>Pedro Gomes</td>\n",
              "      <td>SP</td>\n",
              "      <td>4</td>\n",
              "      <td>cartao_credito</td>\n",
              "      <td>8</td>\n",
              "      <td>-22.19</td>\n",
              "      <td>-48.79</td>\n",
              "    </tr>\n",
              "    <tr>\n",
              "      <th>1</th>\n",
              "      <td>Mesa de jantar</td>\n",
              "      <td>moveis</td>\n",
              "      <td>256.35</td>\n",
              "      <td>11.234</td>\n",
              "      <td>18/05/2022</td>\n",
              "      <td>Beatriz Moraes</td>\n",
              "      <td>RJ</td>\n",
              "      <td>1</td>\n",
              "      <td>cartao_credito</td>\n",
              "      <td>4</td>\n",
              "      <td>-22.25</td>\n",
              "      <td>-42.66</td>\n",
              "    </tr>\n",
              "    <tr>\n",
              "      <th>2</th>\n",
              "      <td>Jogo de tabuleiro</td>\n",
              "      <td>brinquedos</td>\n",
              "      <td>279.51</td>\n",
              "      <td>21.263</td>\n",
              "      <td>15/03/2021</td>\n",
              "      <td>João Souza</td>\n",
              "      <td>DF</td>\n",
              "      <td>1</td>\n",
              "      <td>cartao_credito</td>\n",
              "      <td>1</td>\n",
              "      <td>-15.83</td>\n",
              "      <td>-47.86</td>\n",
              "    </tr>\n",
              "    <tr>\n",
              "      <th>3</th>\n",
              "      <td>Micro-ondas</td>\n",
              "      <td>eletrodomesticos</td>\n",
              "      <td>1009.99</td>\n",
              "      <td>54.667</td>\n",
              "      <td>03/05/2022</td>\n",
              "      <td>João Souza</td>\n",
              "      <td>RS</td>\n",
              "      <td>4</td>\n",
              "      <td>boleto</td>\n",
              "      <td>1</td>\n",
              "      <td>-30.17</td>\n",
              "      <td>-53.50</td>\n",
              "    </tr>\n",
              "    <tr>\n",
              "      <th>4</th>\n",
              "      <td>Cadeira de escritório</td>\n",
              "      <td>moveis</td>\n",
              "      <td>446.99</td>\n",
              "      <td>26.965</td>\n",
              "      <td>07/11/2020</td>\n",
              "      <td>Larissa Alves</td>\n",
              "      <td>MG</td>\n",
              "      <td>5</td>\n",
              "      <td>boleto</td>\n",
              "      <td>1</td>\n",
              "      <td>-18.10</td>\n",
              "      <td>-44.38</td>\n",
              "    </tr>\n",
              "  </tbody>\n",
              "</table>\n",
              "</div>\n",
              "    <div class=\"colab-df-buttons\">\n",
              "\n",
              "  <div class=\"colab-df-container\">\n",
              "    <button class=\"colab-df-convert\" onclick=\"convertToInteractive('df-254ab655-3d9d-4867-b615-aca1f875355b')\"\n",
              "            title=\"Convert this dataframe to an interactive table.\"\n",
              "            style=\"display:none;\">\n",
              "\n",
              "  <svg xmlns=\"http://www.w3.org/2000/svg\" height=\"24px\" viewBox=\"0 -960 960 960\">\n",
              "    <path d=\"M120-120v-720h720v720H120Zm60-500h600v-160H180v160Zm220 220h160v-160H400v160Zm0 220h160v-160H400v160ZM180-400h160v-160H180v160Zm440 0h160v-160H620v160ZM180-180h160v-160H180v160Zm440 0h160v-160H620v160Z\"/>\n",
              "  </svg>\n",
              "    </button>\n",
              "\n",
              "  <style>\n",
              "    .colab-df-container {\n",
              "      display:flex;\n",
              "      gap: 12px;\n",
              "    }\n",
              "\n",
              "    .colab-df-convert {\n",
              "      background-color: #E8F0FE;\n",
              "      border: none;\n",
              "      border-radius: 50%;\n",
              "      cursor: pointer;\n",
              "      display: none;\n",
              "      fill: #1967D2;\n",
              "      height: 32px;\n",
              "      padding: 0 0 0 0;\n",
              "      width: 32px;\n",
              "    }\n",
              "\n",
              "    .colab-df-convert:hover {\n",
              "      background-color: #E2EBFA;\n",
              "      box-shadow: 0px 1px 2px rgba(60, 64, 67, 0.3), 0px 1px 3px 1px rgba(60, 64, 67, 0.15);\n",
              "      fill: #174EA6;\n",
              "    }\n",
              "\n",
              "    .colab-df-buttons div {\n",
              "      margin-bottom: 4px;\n",
              "    }\n",
              "\n",
              "    [theme=dark] .colab-df-convert {\n",
              "      background-color: #3B4455;\n",
              "      fill: #D2E3FC;\n",
              "    }\n",
              "\n",
              "    [theme=dark] .colab-df-convert:hover {\n",
              "      background-color: #434B5C;\n",
              "      box-shadow: 0px 1px 3px 1px rgba(0, 0, 0, 0.15);\n",
              "      filter: drop-shadow(0px 1px 2px rgba(0, 0, 0, 0.3));\n",
              "      fill: #FFFFFF;\n",
              "    }\n",
              "  </style>\n",
              "\n",
              "    <script>\n",
              "      const buttonEl =\n",
              "        document.querySelector('#df-254ab655-3d9d-4867-b615-aca1f875355b button.colab-df-convert');\n",
              "      buttonEl.style.display =\n",
              "        google.colab.kernel.accessAllowed ? 'block' : 'none';\n",
              "\n",
              "      async function convertToInteractive(key) {\n",
              "        const element = document.querySelector('#df-254ab655-3d9d-4867-b615-aca1f875355b');\n",
              "        const dataTable =\n",
              "          await google.colab.kernel.invokeFunction('convertToInteractive',\n",
              "                                                    [key], {});\n",
              "        if (!dataTable) return;\n",
              "\n",
              "        const docLinkHtml = 'Like what you see? Visit the ' +\n",
              "          '<a target=\"_blank\" href=https://colab.research.google.com/notebooks/data_table.ipynb>data table notebook</a>'\n",
              "          + ' to learn more about interactive tables.';\n",
              "        element.innerHTML = '';\n",
              "        dataTable['output_type'] = 'display_data';\n",
              "        await google.colab.output.renderOutput(dataTable, element);\n",
              "        const docLink = document.createElement('div');\n",
              "        docLink.innerHTML = docLinkHtml;\n",
              "        element.appendChild(docLink);\n",
              "      }\n",
              "    </script>\n",
              "  </div>\n",
              "\n",
              "\n",
              "<div id=\"df-9bfc24ef-106c-40ce-93eb-355a7aac3bbb\">\n",
              "  <button class=\"colab-df-quickchart\" onclick=\"quickchart('df-9bfc24ef-106c-40ce-93eb-355a7aac3bbb')\"\n",
              "            title=\"Suggest charts\"\n",
              "            style=\"display:none;\">\n",
              "\n",
              "<svg xmlns=\"http://www.w3.org/2000/svg\" height=\"24px\"viewBox=\"0 0 24 24\"\n",
              "     width=\"24px\">\n",
              "    <g>\n",
              "        <path d=\"M19 3H5c-1.1 0-2 .9-2 2v14c0 1.1.9 2 2 2h14c1.1 0 2-.9 2-2V5c0-1.1-.9-2-2-2zM9 17H7v-7h2v7zm4 0h-2V7h2v10zm4 0h-2v-4h2v4z\"/>\n",
              "    </g>\n",
              "</svg>\n",
              "  </button>\n",
              "\n",
              "<style>\n",
              "  .colab-df-quickchart {\n",
              "      --bg-color: #E8F0FE;\n",
              "      --fill-color: #1967D2;\n",
              "      --hover-bg-color: #E2EBFA;\n",
              "      --hover-fill-color: #174EA6;\n",
              "      --disabled-fill-color: #AAA;\n",
              "      --disabled-bg-color: #DDD;\n",
              "  }\n",
              "\n",
              "  [theme=dark] .colab-df-quickchart {\n",
              "      --bg-color: #3B4455;\n",
              "      --fill-color: #D2E3FC;\n",
              "      --hover-bg-color: #434B5C;\n",
              "      --hover-fill-color: #FFFFFF;\n",
              "      --disabled-bg-color: #3B4455;\n",
              "      --disabled-fill-color: #666;\n",
              "  }\n",
              "\n",
              "  .colab-df-quickchart {\n",
              "    background-color: var(--bg-color);\n",
              "    border: none;\n",
              "    border-radius: 50%;\n",
              "    cursor: pointer;\n",
              "    display: none;\n",
              "    fill: var(--fill-color);\n",
              "    height: 32px;\n",
              "    padding: 0;\n",
              "    width: 32px;\n",
              "  }\n",
              "\n",
              "  .colab-df-quickchart:hover {\n",
              "    background-color: var(--hover-bg-color);\n",
              "    box-shadow: 0 1px 2px rgba(60, 64, 67, 0.3), 0 1px 3px 1px rgba(60, 64, 67, 0.15);\n",
              "    fill: var(--button-hover-fill-color);\n",
              "  }\n",
              "\n",
              "  .colab-df-quickchart-complete:disabled,\n",
              "  .colab-df-quickchart-complete:disabled:hover {\n",
              "    background-color: var(--disabled-bg-color);\n",
              "    fill: var(--disabled-fill-color);\n",
              "    box-shadow: none;\n",
              "  }\n",
              "\n",
              "  .colab-df-spinner {\n",
              "    border: 2px solid var(--fill-color);\n",
              "    border-color: transparent;\n",
              "    border-bottom-color: var(--fill-color);\n",
              "    animation:\n",
              "      spin 1s steps(1) infinite;\n",
              "  }\n",
              "\n",
              "  @keyframes spin {\n",
              "    0% {\n",
              "      border-color: transparent;\n",
              "      border-bottom-color: var(--fill-color);\n",
              "      border-left-color: var(--fill-color);\n",
              "    }\n",
              "    20% {\n",
              "      border-color: transparent;\n",
              "      border-left-color: var(--fill-color);\n",
              "      border-top-color: var(--fill-color);\n",
              "    }\n",
              "    30% {\n",
              "      border-color: transparent;\n",
              "      border-left-color: var(--fill-color);\n",
              "      border-top-color: var(--fill-color);\n",
              "      border-right-color: var(--fill-color);\n",
              "    }\n",
              "    40% {\n",
              "      border-color: transparent;\n",
              "      border-right-color: var(--fill-color);\n",
              "      border-top-color: var(--fill-color);\n",
              "    }\n",
              "    60% {\n",
              "      border-color: transparent;\n",
              "      border-right-color: var(--fill-color);\n",
              "    }\n",
              "    80% {\n",
              "      border-color: transparent;\n",
              "      border-right-color: var(--fill-color);\n",
              "      border-bottom-color: var(--fill-color);\n",
              "    }\n",
              "    90% {\n",
              "      border-color: transparent;\n",
              "      border-bottom-color: var(--fill-color);\n",
              "    }\n",
              "  }\n",
              "</style>\n",
              "\n",
              "  <script>\n",
              "    async function quickchart(key) {\n",
              "      const quickchartButtonEl =\n",
              "        document.querySelector('#' + key + ' button');\n",
              "      quickchartButtonEl.disabled = true;  // To prevent multiple clicks.\n",
              "      quickchartButtonEl.classList.add('colab-df-spinner');\n",
              "      try {\n",
              "        const charts = await google.colab.kernel.invokeFunction(\n",
              "            'suggestCharts', [key], {});\n",
              "      } catch (error) {\n",
              "        console.error('Error during call to suggestCharts:', error);\n",
              "      }\n",
              "      quickchartButtonEl.classList.remove('colab-df-spinner');\n",
              "      quickchartButtonEl.classList.add('colab-df-quickchart-complete');\n",
              "    }\n",
              "    (() => {\n",
              "      let quickchartButtonEl =\n",
              "        document.querySelector('#df-9bfc24ef-106c-40ce-93eb-355a7aac3bbb button');\n",
              "      quickchartButtonEl.style.display =\n",
              "        google.colab.kernel.accessAllowed ? 'block' : 'none';\n",
              "    })();\n",
              "  </script>\n",
              "</div>\n",
              "\n",
              "    </div>\n",
              "  </div>\n"
            ],
            "application/vnd.google.colaboratory.intrinsic+json": {
              "type": "dataframe",
              "variable_name": "loja",
              "summary": "{\n  \"name\": \"loja\",\n  \"rows\": 2359,\n  \"fields\": [\n    {\n      \"column\": \"Produto\",\n      \"properties\": {\n        \"dtype\": \"category\",\n        \"num_unique_values\": 51,\n        \"samples\": [\n          \"Viol\\u00e3o\",\n          \"Bola de basquete\",\n          \"Smartwatch\"\n        ],\n        \"semantic_type\": \"\",\n        \"description\": \"\"\n      }\n    },\n    {\n      \"column\": \"Categoria do Produto\",\n      \"properties\": {\n        \"dtype\": \"category\",\n        \"num_unique_values\": 8,\n        \"samples\": [\n          \"moveis\",\n          \"esporte e lazer\",\n          \"eletronicos\"\n        ],\n        \"semantic_type\": \"\",\n        \"description\": \"\"\n      }\n    },\n    {\n      \"column\": \"Pre\\u00e7o\",\n      \"properties\": {\n        \"dtype\": \"number\",\n        \"std\": 819.5827782539145,\n        \"min\": 10.07,\n        \"max\": 3969.38,\n        \"num_unique_values\": 2315,\n        \"samples\": [\n          446.11,\n          107.31,\n          65.86\n        ],\n        \"semantic_type\": \"\",\n        \"description\": \"\"\n      }\n    },\n    {\n      \"column\": \"Frete\",\n      \"properties\": {\n        \"dtype\": \"number\",\n        \"std\": 43.814183327408166,\n        \"min\": 0.0,\n        \"max\": 214.3770604781,\n        \"num_unique_values\": 2149,\n        \"samples\": [\n          83.815279607,\n          16.069664669,\n          14.0344876928\n        ],\n        \"semantic_type\": \"\",\n        \"description\": \"\"\n      }\n    },\n    {\n      \"column\": \"Data da Compra\",\n      \"properties\": {\n        \"dtype\": \"object\",\n        \"num_unique_values\": 1018,\n        \"samples\": [\n          \"15/09/2022\",\n          \"03/06/2020\",\n          \"06/11/2021\"\n        ],\n        \"semantic_type\": \"\",\n        \"description\": \"\"\n      }\n    },\n    {\n      \"column\": \"Vendedor\",\n      \"properties\": {\n        \"dtype\": \"category\",\n        \"num_unique_values\": 14,\n        \"samples\": [\n          \"Juliana Costa\",\n          \"Mariana Ferreira\",\n          \"Pedro Gomes\"\n        ],\n        \"semantic_type\": \"\",\n        \"description\": \"\"\n      }\n    },\n    {\n      \"column\": \"Local da compra\",\n      \"properties\": {\n        \"dtype\": \"category\",\n        \"num_unique_values\": 26,\n        \"samples\": [\n          \"TO\",\n          \"RN\",\n          \"SP\"\n        ],\n        \"semantic_type\": \"\",\n        \"description\": \"\"\n      }\n    },\n    {\n      \"column\": \"Avalia\\u00e7\\u00e3o da compra\",\n      \"properties\": {\n        \"dtype\": \"number\",\n        \"std\": 1,\n        \"min\": 1,\n        \"max\": 5,\n        \"num_unique_values\": 5,\n        \"samples\": [\n          1,\n          2,\n          5\n        ],\n        \"semantic_type\": \"\",\n        \"description\": \"\"\n      }\n    },\n    {\n      \"column\": \"Tipo de pagamento\",\n      \"properties\": {\n        \"dtype\": \"category\",\n        \"num_unique_values\": 4,\n        \"samples\": [\n          \"boleto\",\n          \"cartao_debito\",\n          \"cartao_credito\"\n        ],\n        \"semantic_type\": \"\",\n        \"description\": \"\"\n      }\n    },\n    {\n      \"column\": \"Quantidade de parcelas\",\n      \"properties\": {\n        \"dtype\": \"number\",\n        \"std\": 2,\n        \"min\": 1,\n        \"max\": 24,\n        \"num_unique_values\": 15,\n        \"samples\": [\n          7,\n          14,\n          8\n        ],\n        \"semantic_type\": \"\",\n        \"description\": \"\"\n      }\n    },\n    {\n      \"column\": \"lat\",\n      \"properties\": {\n        \"dtype\": \"number\",\n        \"std\": 5.372399916530833,\n        \"min\": -30.17,\n        \"max\": 1.41,\n        \"num_unique_values\": 26,\n        \"samples\": [\n          -9.46,\n          -5.81,\n          -22.19\n        ],\n        \"semantic_type\": \"\",\n        \"description\": \"\"\n      }\n    },\n    {\n      \"column\": \"lon\",\n      \"properties\": {\n        \"dtype\": \"number\",\n        \"std\": 4.183180020544179,\n        \"min\": -70.55,\n        \"max\": -36.59,\n        \"num_unique_values\": 26,\n        \"samples\": [\n          -48.26,\n          -36.59,\n          -48.79\n        ],\n        \"semantic_type\": \"\",\n        \"description\": \"\"\n      }\n    }\n  ]\n}"
            }
          },
          "metadata": {},
          "execution_count": 153
        }
      ],
      "source": [
        "import pandas as pd\n",
        "\n",
        "url = \"https://raw.githubusercontent.com/alura-es-cursos/challenge1-data-science/refs/heads/main/base-de-dados-challenge-1/loja_1.csv\"\n",
        "url2 = \"https://raw.githubusercontent.com/alura-es-cursos/challenge1-data-science/refs/heads/main/base-de-dados-challenge-1/loja_2.csv\"\n",
        "url3 = \"https://raw.githubusercontent.com/alura-es-cursos/challenge1-data-science/refs/heads/main/base-de-dados-challenge-1/loja_3.csv\"\n",
        "url4 = \"https://raw.githubusercontent.com/alura-es-cursos/challenge1-data-science/refs/heads/main/base-de-dados-challenge-1/loja_4.csv\"\n",
        "\n",
        "loja = pd.read_csv(url)\n",
        "loja2 = pd.read_csv(url2)\n",
        "loja3 = pd.read_csv(url3)\n",
        "loja4 = pd.read_csv(url4)\n",
        "\n",
        "loja.head()"
      ]
    },
    {
      "cell_type": "markdown",
      "source": [
        "#1. Análise do faturamento\n"
      ],
      "metadata": {
        "id": "X62IW3KFUIYm"
      }
    },
    {
      "cell_type": "code",
      "source": [
        "loja1 = loja # Padronizar o nome da loja com os demais\n",
        "\n",
        "lojas = ['Loja 1', 'Loja 2', 'Loja 3', 'Loja 4']\n",
        "dados = [loja1,loja2,loja3,loja4]\n",
        "\n",
        "def faturamento(loja):\n",
        "  faturamento = loja[\"Preço\"].sum()\n",
        "  return faturamento\n",
        "\n",
        "faturamentos = []\n",
        "for i in dados:\n",
        "  faturamentos.append(faturamento(i))\n"
      ],
      "metadata": {
        "id": "xykobSftV64I"
      },
      "execution_count": 154,
      "outputs": []
    },
    {
      "cell_type": "code",
      "source": [
        "import matplotlib.pyplot as plt\n",
        "plt.xlabel('Lojas')\n",
        "plt.ylabel('Faturamento R$')\n",
        "plt.title('Faturamento por Loja')\n",
        "barras = plt.bar(lojas, faturamentos, color='green')\n",
        "plt.bar_label(barras, fmt='%.2f', label_type='edge' )\n",
        "plt.show()\n",
        "\n",
        "\n"
      ],
      "metadata": {
        "id": "KDyr8E71V3m-",
        "colab": {
          "base_uri": "https://localhost:8080/",
          "height": 472
        },
        "outputId": "a12070b5-d22b-4dfd-e7ca-a09b67d0c276"
      },
      "execution_count": 155,
      "outputs": [
        {
          "output_type": "display_data",
          "data": {
            "text/plain": [
              "<Figure size 640x480 with 1 Axes>"
            ],
            "image/png": "[encoded data removed]"
          },
          "metadata": {}
        }
      ]
    },
    {
      "cell_type": "markdown",
      "source": [
        "# 2. Vendas por Categoria\n"
      ],
      "metadata": {
        "id": "2V_vcAPzWZmR"
      }
    },
    {
      "cell_type": "code",
      "source": [
        "vendas_por_categoria_l1 = loja1.groupby('Categoria do Produto')['Produto'].count().reset_index()\n",
        "vendas_por_categoria_l2 = loja2.groupby('Categoria do Produto')['Produto'].count().reset_index()\n",
        "vendas_por_categoria_l3 = loja3.groupby('Categoria do Produto')['Produto'].count().reset_index()\n",
        "vendas_por_categoria_l4 = loja4.groupby('Categoria do Produto')['Produto'].count().reset_index()\n",
        "\n",
        "categorias_mais_populares_l1 = vendas_por_categoria_l1.sort_values(by='Produto', ascending=False)\n",
        "categorias_mais_populares_l2 = vendas_por_categoria_l2.sort_values(by='Produto', ascending=False)\n",
        "categorias_mais_populares_l3 = vendas_por_categoria_l3.sort_values(by='Produto', ascending=False)\n",
        "categorias_mais_populares_l4 = vendas_por_categoria_l4.sort_values(by='Produto', ascending=False)"
      ],
      "metadata": {
        "id": "A34YupIuYhfF"
      },
      "execution_count": 156,
      "outputs": []
    },
    {
      "cell_type": "code",
      "source": [
        "print(\"=== Loja1 ===\\n\",vendas_por_categoria_l1,\"\\nMais Popular:\\n\",categorias_mais_populares_l1)\n",
        "print(\"=== Loja2 ===\\n\",vendas_por_categoria_l2,\"\\nMais Popular:\\n\",categorias_mais_populares_l2)\n",
        "print(\"=== Loja3 ===\\n\",vendas_por_categoria_l3,\"\\nMais Popular:\\n\",categorias_mais_populares_l3)\n",
        "print(\"=== Loja4 ===\\n\",vendas_por_categoria_l4,\"\\nMais Popular:\\n\",categorias_mais_populares_l4)"
      ],
      "metadata": {
        "id": "yZR6cOjXYSk1",
        "colab": {
          "base_uri": "https://localhost:8080/"
        },
        "outputId": "f49defd5-5311-413d-a377-b9d5f7f8d4e8"
      },
      "execution_count": 157,
      "outputs": [
        {
          "output_type": "stream",
          "name": "stdout",
          "text": [
            "=== Loja1 ===\n",
            "     Categoria do Produto  Produto\n",
            "0             brinquedos      324\n",
            "1       eletrodomesticos      312\n",
            "2            eletronicos      448\n",
            "3        esporte e lazer      284\n",
            "4  instrumentos musicais      182\n",
            "5                 livros      173\n",
            "6                 moveis      465\n",
            "7  utilidades domesticas      171 \n",
            "Mais Popular:\n",
            "     Categoria do Produto  Produto\n",
            "6                 moveis      465\n",
            "2            eletronicos      448\n",
            "0             brinquedos      324\n",
            "1       eletrodomesticos      312\n",
            "3        esporte e lazer      284\n",
            "4  instrumentos musicais      182\n",
            "5                 livros      173\n",
            "7  utilidades domesticas      171\n",
            "=== Loja2 ===\n",
            "     Categoria do Produto  Produto\n",
            "0             brinquedos      313\n",
            "1       eletrodomesticos      305\n",
            "2            eletronicos      422\n",
            "3        esporte e lazer      275\n",
            "4  instrumentos musicais      224\n",
            "5                 livros      197\n",
            "6                 moveis      442\n",
            "7  utilidades domesticas      181 \n",
            "Mais Popular:\n",
            "     Categoria do Produto  Produto\n",
            "6                 moveis      442\n",
            "2            eletronicos      422\n",
            "0             brinquedos      313\n",
            "1       eletrodomesticos      305\n",
            "3        esporte e lazer      275\n",
            "4  instrumentos musicais      224\n",
            "5                 livros      197\n",
            "7  utilidades domesticas      181\n",
            "=== Loja3 ===\n",
            "     Categoria do Produto  Produto\n",
            "0             brinquedos      315\n",
            "1       eletrodomesticos      278\n",
            "2            eletronicos      451\n",
            "3        esporte e lazer      277\n",
            "4  instrumentos musicais      177\n",
            "5                 livros      185\n",
            "6                 moveis      499\n",
            "7  utilidades domesticas      177 \n",
            "Mais Popular:\n",
            "     Categoria do Produto  Produto\n",
            "6                 moveis      499\n",
            "2            eletronicos      451\n",
            "0             brinquedos      315\n",
            "1       eletrodomesticos      278\n",
            "3        esporte e lazer      277\n",
            "5                 livros      185\n",
            "4  instrumentos musicais      177\n",
            "7  utilidades domesticas      177\n",
            "=== Loja4 ===\n",
            "     Categoria do Produto  Produto\n",
            "0             brinquedos      338\n",
            "1       eletrodomesticos      254\n",
            "2            eletronicos      451\n",
            "3        esporte e lazer      277\n",
            "4  instrumentos musicais      170\n",
            "5                 livros      187\n",
            "6                 moveis      480\n",
            "7  utilidades domesticas      201 \n",
            "Mais Popular:\n",
            "     Categoria do Produto  Produto\n",
            "6                 moveis      480\n",
            "2            eletronicos      451\n",
            "0             brinquedos      338\n",
            "3        esporte e lazer      277\n",
            "1       eletrodomesticos      254\n",
            "7  utilidades domesticas      201\n",
            "5                 livros      187\n",
            "4  instrumentos musicais      170\n"
          ]
        }
      ]
    },
    {
      "cell_type": "markdown",
      "source": [
        "# 3. Média de Avaliação das Lojas"
      ],
      "metadata": {
        "id": "Rq6tU_xSY3jk"
      }
    },
    {
      "cell_type": "code",
      "source": [
        "media_l1 = loja1[\"Avaliação da compra\"].mean()\n",
        "media_l2 = loja2[\"Avaliação da compra\"].mean()\n",
        "media_l3 = loja3[\"Avaliação da compra\"].mean()\n",
        "media_l4 = loja4[\"Avaliação da compra\"].mean()\n",
        "\n",
        "print(media_l1.round(2), \"%.2f\" % media_l2, \"%.2f\" % media_l3, \"%.2f\" %media_l4)"
      ],
      "metadata": {
        "id": "bh3jjjJwY5MU",
        "colab": {
          "base_uri": "https://localhost:8080/"
        },
        "outputId": "777b93c4-798f-407d-c5d8-deebb4b5751b"
      },
      "execution_count": 158,
      "outputs": [
        {
          "output_type": "stream",
          "name": "stdout",
          "text": [
            "3.98 4.04 4.05 4.00\n"
          ]
        }
      ]
    },
    {
      "cell_type": "code",
      "source": [],
      "metadata": {
        "id": "I0KkjPoTY88F"
      },
      "execution_count": 158,
      "outputs": []
    },
    {
      "cell_type": "markdown",
      "source": [
        "# 4. Produtos Mais e Menos Vendidos"
      ],
      "metadata": {
        "id": "DmNp1KPBZCm-"
      }
    },
    {
      "cell_type": "code",
      "source": [
        "vendas_por_produto_l1 = loja1['Produto'].value_counts().reset_index()\n",
        "vendas_por_produto_l1.columns = ['produto', 'quantidade']\n",
        "mais_vendido_l1 = vendas_por_produto_l1.iloc[0]\n",
        "menos_vendido_l1 = vendas_por_produto_l1.iloc[-1]\n",
        "mais_vendido_l1 = mais_vendido_l1.to_dict()\n",
        "menos_vendido_l1 = menos_vendido_l1.to_dict()\n",
        "\n",
        "vendas_por_produto_l2 = loja2['Produto'].value_counts().reset_index()\n",
        "vendas_por_produto_l2.columns = ['produto', 'quantidade']\n",
        "mais_vendido_l2 = vendas_por_produto_l2.iloc[0]\n",
        "menos_vendido_l2 = vendas_por_produto_l2.iloc[-1]\n",
        "mais_vendido_l2 = mais_vendido_l2.to_dict()\n",
        "menos_vendido_l2 = menos_vendido_l2.to_dict()\n",
        "\n",
        "vendas_por_produto_l3 = loja3['Produto'].value_counts().reset_index()\n",
        "vendas_por_produto_l3.columns = ['produto', 'quantidade']\n",
        "mais_vendido_l3 = vendas_por_produto_l3.iloc[0]\n",
        "menos_vendido_l3 = vendas_por_produto_l3.iloc[-1]\n",
        "mais_vendido_l3 = mais_vendido_l3.to_dict()\n",
        "menos_vendido_l3 = menos_vendido_l3.to_dict()\n",
        "\n",
        "vendas_por_produto_l4 = loja4['Produto'].value_counts().reset_index()\n",
        "vendas_por_produto_l4.columns = ['produto', 'quantidade']\n",
        "mais_vendido_l4 = vendas_por_produto_l4.iloc[0]\n",
        "menos_vendido_l4 = vendas_por_produto_l4.iloc[-1]\n",
        "mais_vendido_l4 = mais_vendido_l4.to_dict()\n",
        "menos_vendido_l4 = menos_vendido_l4.to_dict()\n",
        "\n",
        "print('>>> Loja 1 <<<')\n",
        "print(\"Mais vendido:\", mais_vendido_l1)\n",
        "print(\"Menos vendido:\", menos_vendido_l1)\n",
        "\n",
        "print('>>> Loja 2 <<<')\n",
        "print(\"Mais vendido:\", mais_vendido_l2)\n",
        "print(\"Menos vendido:\", menos_vendido_l2)\n",
        "\n",
        "print('>>> Loja 3 <<<')\n",
        "print(\"Mais vendido:\", mais_vendido_l3)\n",
        "print(\"Menos vendido:\", menos_vendido_l3)\n",
        "\n",
        "print('>>> Loja 4 <<<')\n",
        "print(\"Mais vendido:\", mais_vendido_l4)\n",
        "print(\"Menos vendido:\", menos_vendido_l4)"
      ],
      "metadata": {
        "id": "qoyjqijQZHfF",
        "colab": {
          "base_uri": "https://localhost:8080/"
        },
        "outputId": "779c6b6e-2989-442e-a8df-1c9acb9c1136"
      },
      "execution_count": 159,
      "outputs": [
        {
          "output_type": "stream",
          "name": "stdout",
          "text": [
            ">>> Loja 1 <<<\n",
            "Mais vendido: {'produto': 'Micro-ondas', 'quantidade': 60}\n",
            "Menos vendido: {'produto': 'Celular ABXY', 'quantidade': 33}\n",
            ">>> Loja 2 <<<\n",
            "Mais vendido: {'produto': 'Iniciando em programação', 'quantidade': 65}\n",
            "Menos vendido: {'produto': 'Jogo de tabuleiro', 'quantidade': 32}\n",
            ">>> Loja 3 <<<\n",
            "Mais vendido: {'produto': 'Kit banquetas', 'quantidade': 57}\n",
            "Menos vendido: {'produto': 'Blocos de montar', 'quantidade': 35}\n",
            ">>> Loja 4 <<<\n",
            "Mais vendido: {'produto': 'Cama box', 'quantidade': 62}\n",
            "Menos vendido: {'produto': 'Guitarra', 'quantidade': 33}\n"
          ]
        }
      ]
    },
    {
      "cell_type": "code",
      "source": [],
      "metadata": {
        "id": "0Sw3sd4IZIGW"
      },
      "execution_count": 159,
      "outputs": []
    },
    {
      "cell_type": "markdown",
      "source": [
        "# 5. Frete Médio por Loja\n"
      ],
      "metadata": {
        "id": "Fl0cGi3bZKqU"
      }
    },
    {
      "cell_type": "code",
      "source": [
        "media_frete_l1 = loja1[\"Frete\"].mean()\n",
        "media_frete_l2 = loja2[\"Frete\"].mean()\n",
        "media_frete_l3 = loja3[\"Frete\"].mean()\n",
        "media_frete_l4 = loja4[\"Frete\"].mean()\n",
        "\n",
        "print(media_frete_l1.round(2).item(), media_frete_l2.round(2).item(), media_frete_l3.round(2).item(), media_frete_l4.round(2).item())"
      ],
      "metadata": {
        "id": "S2JeaCykZNy9",
        "colab": {
          "base_uri": "https://localhost:8080/"
        },
        "outputId": "8355dd3e-8dfa-4f98-8d14-73ceca2389f1"
      },
      "execution_count": 160,
      "outputs": [
        {
          "output_type": "stream",
          "name": "stdout",
          "text": [
            "34.69 33.62 33.07 31.28\n"
          ]
        }
      ]
    },
    {
      "cell_type": "code",
      "source": [],
      "metadata": {
        "id": "0tSdCie9ZQlt"
      },
      "execution_count": 160,
      "outputs": []
    }
  ]
}